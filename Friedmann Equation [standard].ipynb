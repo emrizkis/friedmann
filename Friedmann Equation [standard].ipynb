{
 "cells": [
  {
   "cell_type": "markdown",
   "metadata": {},
   "source": [
    "# Konstruksi Persamaan Friedmann\n",
    "Oleh: Muhamad Rizki Septiawan\n",
    "## Pengantar\n",
    "\n",
    "<p style=\"text-align: justify;\">Pada kesempatan ini saya ingin berbagi notebook, terkait konstruksi persamaan Friedmann. Konstruksi menggunakan pemrograman python, dibantu dengan package Gravipy. Diharapkan pembaca mendapatkan insight dari notebook ini, dan bisa mengembangkan untuk keperluan seperti skripsi atau yang lainnya.Persamaan Friedmann akan diturunkan menggunakan persamaan medan einstein, dengan asumsi alam semesta terisi materi fluida sempurna, sehingga kita akan menggunakan tensor Energi-Momentum untuk fluida sempurna.</p>\n",
    "<p style=\"text-align: justify;\">Kosmologi saat ini cukup baik dijelaskan oleh teori Relativitas Umum yang dicetuskan oleh Einstein. Teori ini menyatakan baik waktu maupun ruang keduanya tidak absolute, tentu ini sangat radikal bagi mekanika klasik. Karena keduanya tidak absolute untuk selanjutnya ruang dan waktu tidak dapat kita pisahkan keduanya merupakan komponen yang menyatu kita sebut <b>Ruang-Waktu (Spacetime)</b>. Menjadikan ruang dan waktu menjadi satu Manifold, secara signifikan telah membuat sejumlah besar teori fisika menjadi lebih sederhana serta membuat pemahaman seragam mengenai cara kerja alam semseta dalam lingkup kosmologi dan mekanika kuantum. Lalu pengamatan saat ini membawa kesimpulan bahwa alam semesta dinamik. Karakter dinamik ini digambarkan oleh sebuah persamaan yang kemudian kita namakan sebagai persamaan Friedmann. Persamaan ini merupakan konsekuensi dari pemilihan tensor metrik dinamik yang dinamakan tensor Friedmann-Robertson-Walker (FRW).</p>\n",
    "\n",
    "## Tensor Metrik FRW\n",
    "<p style=\"text-align: justify;\">Tensor metrik sederhananya adalah sesuatu yang mengkarakterisasi sebuah ruang. Metrik FRW untuk koordinat spheris memiliki bentuk sebagai berikut:</p>\n",
    "\n",
    "$$g_{\\mu \\nu} =\\left[\\begin{array}{cc}-1 & 0 & 0 & 0\\\\0 & \\frac{a{\\left(t \\right)}^2}{- k r^{2} + 1} & 0 & 0\\\\0 & 0 &  r^{2} a{\\left(t \\right)}^2 & 0\\\\0 & 0 & 0 &  r^{2} a{\\left(t \\right)}^2 \\sin^2{\\left(\\theta \\right)}\\end{array}\\right]$$\n",
    "\n",
    "<p style=\"text-align: justify;\">Atau jika kita tulis dalam bentuk separasi dari dua titik kejadian ($ds^2=g_{\\mu \\nu}dx^2$), akan menghasilkan:</p>\n",
    "<p style=\"text-align: center;\"> $ds^2=$ <span style=\"color:red;\">$-c^2dt^2$</span>$+$<span style=\"color:blue;\">$\\left( \\frac{a{\\left(t \\right)}^2}{- k r^{2} + 1} dr^2 + r^{2} a{\\left(t \\right)}^2 d \\theta^2 + r^{2} a{\\left(t \\right)}^2 \\sin^2{\\theta}d \\phi^2 \\right) $</span></p>\n",
    "<p style=\"text-align: justify;\">Bagian berwarna merah merupakan komponen temporal, sedangkan bagian berwarna biru merupakan komponen spasial. Mungkin ada pembaca yang belum mengetahui arti dari penulisan dimensi 3+1, ini memiliki makna dimensi 4 yang memiliki 3 komponen ruang (spasial) dan 1 komponen waktu (temporal). Perhatikan bagian spasial dari persamaan di atas! disetiap komponennya terdapat sebuah fungsi terhadap waktu ($a\\left(t \\right)$) ini merupakan sebuah faktor skala, yang mengindikasikan bahwa komponen ruang bersifat dinamik. Bagaimana karateristik dinamikanya? itu tergantung daripada bentuk $a\\left(t \\right)$. Bentuk $a\\left(t \\right)$ dapat diperoleh dengan mencari solusi daripada persamaan Friedmann yang nanti akan kita kontruksi. Lalu $k$ merupakan konstanta kurvatur dari ruang bernilai -1, 0, dan/atau 1.</p>\n",
    "<p>Langsung saja, kita keprogramnya:</p>"
   ]
  },
  {
   "cell_type": "code",
   "execution_count": 1,
   "metadata": {},
   "outputs": [],
   "source": [
    "#import package yang diperlukan\n",
    "from gravipy.tensorial import *\n",
    "from sympy import init_printing, latex, sqrt, trace, pi\n",
    "from IPython.display import display, Math\n",
    "import inspect\n",
    "init_printing()"
   ]
  },
  {
   "cell_type": "code",
   "execution_count": 2,
   "metadata": {},
   "outputs": [],
   "source": [
    "#Inisialisasi simbol yang akan digunakan\n",
    "t, r, theta, phi, c, k, lamda = symbols(\"t r theta phi c k Lambda\")\n",
    "\n",
    "#Membuat sebuat fungsi a\n",
    "a = Function('a')\n",
    "at = a(t)\n",
    "\n",
    "\n",
    "#Menentukan variable koordinat\n",
    "x = Coordinates('\\chi', [t, r, theta, phi])"
   ]
  },
  {
   "cell_type": "code",
   "execution_count": 3,
   "metadata": {},
   "outputs": [],
   "source": [
    "#Membuat tensor metric FRW\n",
    "Metric = diag(1, -1*(at**2)/(1-k*r**2), -1*(at**2)*r**2, -1*(at**2)*r**2*(sin(theta)**2))\n",
    "g = MetricTensor('g', x, Metric) #MetricTensor class yang telah tersedia pada package garivipy"
   ]
  },
  {
   "cell_type": "code",
   "execution_count": 4,
   "metadata": {},
   "outputs": [
    {
     "data": {
      "image/png": "[encoded data removed]",
      "text/latex": [
       "$\\displaystyle - \\frac{a^{2}{\\left(t \\right)}}{- k r^{2} + 1}$"
      ],
      "text/plain": [
       "   2      \n",
       " -a (t)   \n",
       "──────────\n",
       "     2    \n",
       "- k⋅r  + 1"
      ]
     },
     "execution_count": 4,
     "metadata": {},
     "output_type": "execute_result"
    }
   ],
   "source": [
    "#untuk melihat hasilnya, perindexnya, bisa kita gunakan g(index mu, index nu)\n",
    "#silahkan ubah angka dalam tanda kurung, dengan index komponen yang ingin dilihat, dimulai dari angka 1, dan\n",
    "g(2,2) "
   ]
  },
  {
   "cell_type": "code",
   "execution_count": 5,
   "metadata": {},
   "outputs": [
    {
     "data": {
      "image/png": "[encoded data removed]",
      "text/latex": [
       "$\\displaystyle - \\frac{- k r^{2} + 1}{a^{2}{\\left(t \\right)}}$"
      ],
      "text/plain": [
       " ⎛     2    ⎞ \n",
       "-⎝- k⋅r  + 1⎠ \n",
       "──────────────\n",
       "     2        \n",
       "    a (t)     "
      ]
     },
     "execution_count": 5,
     "metadata": {},
     "output_type": "execute_result"
    }
   ],
   "source": [
    "#tanda minus untuk bentuk kontravariannya\n",
    "g(-2,-2)"
   ]
  },
  {
   "cell_type": "code",
   "execution_count": 6,
   "metadata": {},
   "outputs": [
    {
     "data": {
      "text/latex": [
       "$\\displaystyle \\left[\\begin{matrix}1 & 0 & 0 & 0\\\\0 & - \\frac{a^{2}{\\left(t \\right)}}{- k r^{2} + 1} & 0 & 0\\\\0 & 0 & - r^{2} a^{2}{\\left(t \\right)} & 0\\\\0 & 0 & 0 & - r^{2} a^{2}{\\left(t \\right)} \\sin^{2}{\\left(\\theta \\right)}\\end{matrix}\\right]$"
      ],
      "text/plain": [
       "⎡1      0           0              0        ⎤\n",
       "⎢                                           ⎥\n",
       "⎢      2                                    ⎥\n",
       "⎢    -a (t)                                 ⎥\n",
       "⎢0  ──────────      0              0        ⎥\n",
       "⎢        2                                  ⎥\n",
       "⎢   - k⋅r  + 1                              ⎥\n",
       "⎢                                           ⎥\n",
       "⎢                 2  2                      ⎥\n",
       "⎢0      0       -r ⋅a (t)          0        ⎥\n",
       "⎢                                           ⎥\n",
       "⎢                            2  2       2   ⎥\n",
       "⎣0      0           0      -r ⋅a (t)⋅sin (θ)⎦"
      ]
     },
     "execution_count": 6,
     "metadata": {},
     "output_type": "execute_result"
    }
   ],
   "source": [
    "#untuk melihat semua komponen dalam bentuk matriks\n",
    "g(All,All)"
   ]
  },
  {
   "cell_type": "code",
   "execution_count": 7,
   "metadata": {},
   "outputs": [
    {
     "data": {
      "text/latex": [
       "$\\displaystyle \\left[\\begin{matrix}1 & 0 & 0 & 0\\\\0 & - \\frac{- k r^{2} + 1}{a^{2}{\\left(t \\right)}} & 0 & 0\\\\0 & 0 & - \\frac{1}{r^{2} a^{2}{\\left(t \\right)}} & 0\\\\0 & 0 & 0 & - \\frac{1}{r^{2} a^{2}{\\left(t \\right)} \\sin^{2}{\\left(\\theta \\right)}}\\end{matrix}\\right]$"
      ],
      "text/plain": [
       "⎡1        0            0             0        ⎤\n",
       "⎢                                             ⎥\n",
       "⎢    ⎛     2    ⎞                             ⎥\n",
       "⎢   -⎝- k⋅r  + 1⎠                             ⎥\n",
       "⎢0  ──────────────     0             0        ⎥\n",
       "⎢        2                                    ⎥\n",
       "⎢       a (t)                                 ⎥\n",
       "⎢                                             ⎥\n",
       "⎢                     -1                      ⎥\n",
       "⎢0        0         ────────         0        ⎥\n",
       "⎢                    2  2                     ⎥\n",
       "⎢                   r ⋅a (t)                  ⎥\n",
       "⎢                                             ⎥\n",
       "⎢                                   -1        ⎥\n",
       "⎢0        0            0      ────────────────⎥\n",
       "⎢                              2  2       2   ⎥\n",
       "⎣                             r ⋅a (t)⋅sin (θ)⎦"
      ]
     },
     "execution_count": 7,
     "metadata": {},
     "output_type": "execute_result"
    }
   ],
   "source": [
    "#tensor metrik kontravariannya\n",
    "g(-All,-All)"
   ]
  },
  {
   "cell_type": "markdown",
   "metadata": {},
   "source": [
    "## Simbol Christoffel\n",
    "\n",
    "<p style=\"text-align: justify;\">Simbol Cristoffel (atau koefisien koneksi affine) adalah cara mendefinisikan kesejajaran antara titik-titik tetangga dalam manifold. Simbol Cristoffel dibangun oleh turunan pertama tensor metrik, dimana tensor metrik sebagai cara mendefinisikan jarak antara dua buah titik. Bentuk matematis Simbol Christoffel:</p>\n",
    "$$\n",
    "\\Gamma_{\\rho \\mu \\nu} = \\frac{1}{2}\\left( \\frac{\\partial g_{\\mu \\rho}}{\\partial x^\\nu} + \\frac{\\partial g_{\\rho \\nu}}{\\partial x^\\mu}- \\frac{\\partial g_{\\mu \\nu}}{\\partial x^\\rho} \\right)\n",
    "$$\n",
    "\n",
    "<p style=\"text-align: justify;\">Persamaan diatas merupakan Simbol Christoffel jenis pertama. Jika kita kalikan dengan $g^{\\sigma \\rho}$ maka akan menghasilkan:</p>\n",
    "$$\n",
    "\\Gamma^{\\sigma}_{\\mu \\nu} = \\frac{1}{2} g^{\\sigma \\rho} \\left( \\frac{\\partial g_{\\mu \\rho}}{\\partial x^\\nu} + \\frac{\\partial g_{\\rho \\nu}}{\\partial x^\\mu}- \\frac{\\partial g_{\\mu \\nu}}{\\partial x^\\rho} \\right)\n",
    "$$\n",
    "<p style=\"text-align: justify;\">Persamaan ini kemudian dinamakan Simbol Cristoffel jenis kedua. Pada package Gravipy sendiri class yang tersedia untuk Simbol Christoffel adalah yang jenis pertama. Simbol Christoffel jenis kedua sendiri dapat dibuat sendiri. Untuk menghemat tenaga, disini menggunakan class dari Gravipy saja.</p>\n"
   ]
  },
  {
   "cell_type": "code",
   "execution_count": 8,
   "metadata": {},
   "outputs": [],
   "source": [
    "#Simbol Christoffel jenis pertama\n",
    "Christof = Christoffel('Gamma', g)"
   ]
  },
  {
   "cell_type": "code",
   "execution_count": 9,
   "metadata": {},
   "outputs": [
    {
     "data": {
      "text/latex": [
       "$$\\Gamma_{0\\mu \\nu} =\\left[\\begin{matrix}0 & 0 & 0 & 0\\\\0 & - \\frac{a{\\left(t \\right)} \\frac{d}{d t} a{\\left(t \\right)}}{k r^{2} - 1} & 0 & 0\\\\0 & 0 & r^{2} a{\\left(t \\right)} \\frac{d}{d t} a{\\left(t \\right)} & 0\\\\0 & 0 & 0 & r^{2} a{\\left(t \\right)} \\sin^{2}{\\left(\\theta \\right)} \\frac{d}{d t} a{\\left(t \\right)}\\end{matrix}\\right]$$"
      ],
      "text/plain": [
       "<IPython.core.display.Math object>"
      ]
     },
     "metadata": {},
     "output_type": "display_data"
    },
    {
     "data": {
      "text/latex": [
       "$$\\Gamma_{1\\mu \\nu} =\\left[\\begin{matrix}0 & \\frac{a{\\left(t \\right)} \\frac{d}{d t} a{\\left(t \\right)}}{k r^{2} - 1} & 0 & 0\\\\\\frac{a{\\left(t \\right)} \\frac{d}{d t} a{\\left(t \\right)}}{k r^{2} - 1} & - \\frac{k r a^{2}{\\left(t \\right)}}{\\left(k r^{2} - 1\\right)^{2}} & 0 & 0\\\\0 & 0 & r a^{2}{\\left(t \\right)} & 0\\\\0 & 0 & 0 & r a^{2}{\\left(t \\right)} \\sin^{2}{\\left(\\theta \\right)}\\end{matrix}\\right]$$"
      ],
      "text/plain": [
       "<IPython.core.display.Math object>"
      ]
     },
     "metadata": {},
     "output_type": "display_data"
    },
    {
     "data": {
      "text/latex": [
       "$$\\Gamma_{2\\mu \\nu} =\\left[\\begin{matrix}0 & 0 & - r^{2} a{\\left(t \\right)} \\frac{d}{d t} a{\\left(t \\right)} & 0\\\\0 & 0 & - r a^{2}{\\left(t \\right)} & 0\\\\- r^{2} a{\\left(t \\right)} \\frac{d}{d t} a{\\left(t \\right)} & - r a^{2}{\\left(t \\right)} & 0 & 0\\\\0 & 0 & 0 & \\frac{r^{2} a^{2}{\\left(t \\right)} \\sin{\\left(2 \\theta \\right)}}{2}\\end{matrix}\\right]$$"
      ],
      "text/plain": [
       "<IPython.core.display.Math object>"
      ]
     },
     "metadata": {},
     "output_type": "display_data"
    },
    {
     "data": {
      "text/latex": [
       "$$\\Gamma_{3\\mu \\nu} =\\left[\\begin{matrix}0 & 0 & 0 & - r^{2} a{\\left(t \\right)} \\sin^{2}{\\left(\\theta \\right)} \\frac{d}{d t} a{\\left(t \\right)}\\\\0 & 0 & 0 & - r a^{2}{\\left(t \\right)} \\sin^{2}{\\left(\\theta \\right)}\\\\0 & 0 & 0 & - \\frac{r^{2} a^{2}{\\left(t \\right)} \\sin{\\left(2 \\theta \\right)}}{2}\\\\- r^{2} a{\\left(t \\right)} \\sin^{2}{\\left(\\theta \\right)} \\frac{d}{d t} a{\\left(t \\right)} & - r a^{2}{\\left(t \\right)} \\sin^{2}{\\left(\\theta \\right)} & - \\frac{r^{2} a^{2}{\\left(t \\right)} \\sin{\\left(2 \\theta \\right)}}{2} & 0\\end{matrix}\\right]$$"
      ],
      "text/plain": [
       "<IPython.core.display.Math object>"
      ]
     },
     "metadata": {},
     "output_type": "display_data"
    }
   ],
   "source": [
    "#untuk mendapatkan latex script R\n",
    "for i in range(1, 5):\n",
    "        #a = \" \\\\begin{equation} \\n R_{%d %d} =\" + latex(Ricci(i, j)) + '\\\\\\\\ \\n \\\\end{equation} \\n'\n",
    "        display(Math('\\\\Gamma_{'+latex(i-1)+'\\\\mu \\\\nu} ='+latex(Christof(i, All, All))))"
   ]
  },
  {
   "cell_type": "markdown",
   "metadata": {},
   "source": [
    "## Tensor Riemann dan Tensor Ricci\n",
    "<p style=\"text-align: justify;\">Tensor Riemann menyatakan kelengkungan ruang-waktu. Tensor ini juga merupakan sebuah fungsi dari Simbol Christoffel jenis pertama. Berikut bentuk matematisnya:</p>\n",
    "$$\n",
    "R_{\\mu \\nu \\rho \\sigma}=\\frac{\\partial \\Gamma_{\\mu \\nu \\sigma}}{\\partial x^{\\rho}}-\\frac{\\partial \\Gamma_{\\mu \\nu \\rho}}{\\partial x^{\\sigma}}+\\Gamma_{\\nu \\sigma}^{\\alpha} \\Gamma_{\\mu \\rho \\alpha}-\\Gamma_{\\nu \\rho}^{\\alpha} \\Gamma_{\\mu \\sigma \\alpha}-\\frac{\\partial g_{\\mu \\alpha}}{\\partial x^{\\rho}} \\Gamma_{\\nu \\sigma}^{\\alpha}+\\frac{\\partial g_{\\mu \\alpha}}{\\partial x^{\\sigma}} \\Gamma_{\\nu \\rho}^{\\alpha}\n",
    "$$\n",
    "<p style=\"text-align: justify;\">Melakukan kontraksi pada persamaan diatas akan menghasilkan sebuah tensor yang dinamakan tensor Ricci</p>\n",
    "$$\n",
    "R_{\\mu \\nu}=R_{\\mu \\rho \\nu}^{\\rho}\n",
    "$$\n",
    "$$\n",
    "R_{\\mu \\nu} = \\partial_{\\nu} \\Gamma^{\\rho}_{\\nu \\rho} - \\partial_{\\rho} \\Gamma^{\\rho}_{\\mu \\nu} + \\Gamma^{\\sigma}_{\\mu \\rho} \\Gamma^{\\rho}_{\\nu \\sigma} - \\Gamma^{\\sigma}_{\\mu \\nu} \\Gamma^{\\rho}_{\\sigma \\rho}\n",
    "$$\n",
    "Kita dapat memperoleh suatu skalar, yang dibentuk dari tensor Riemann maupun tensor Ricci, dengan mengkontraksikan seluruh indeks pada tensor-tensor tersebut:\n",
    "$$R=R^{\\nu}_{\\nu}=g^{\\mu \\nu}R_{\\mu \\nu}$$"
   ]
  },
  {
   "cell_type": "code",
   "execution_count": 10,
   "metadata": {},
   "outputs": [],
   "source": [
    "#tensor Ricci\n",
    "Ricci = Ricci('Ri', g)"
   ]
  },
  {
   "cell_type": "code",
   "execution_count": 11,
   "metadata": {},
   "outputs": [
    {
     "data": {
      "text/latex": [
       "$\\displaystyle \\left[\\begin{matrix}- \\frac{3 \\frac{d^{2}}{d t^{2}} a{\\left(t \\right)}}{a{\\left(t \\right)}} & 0 & 0 & 0\\\\0 & - \\frac{2 k + a{\\left(t \\right)} \\frac{d^{2}}{d t^{2}} a{\\left(t \\right)} + 2 \\left(\\frac{d}{d t} a{\\left(t \\right)}\\right)^{2}}{k r^{2} - 1} & 0 & 0\\\\0 & 0 & r^{2} \\left(2 k + a{\\left(t \\right)} \\frac{d^{2}}{d t^{2}} a{\\left(t \\right)} + 2 \\left(\\frac{d}{d t} a{\\left(t \\right)}\\right)^{2}\\right) & 0\\\\0 & 0 & 0 & r^{2} \\left(2 k + a{\\left(t \\right)} \\frac{d^{2}}{d t^{2}} a{\\left(t \\right)} + 2 \\left(\\frac{d}{d t} a{\\left(t \\right)}\\right)^{2}\\right) \\sin^{2}{\\left(\\theta \\right)}\\end{matrix}\\right]$"
      ],
      "text/plain": [
       "⎡     2                                                                       \n",
       "⎢    d                                                                        \n",
       "⎢-3⋅───(a(t))                                                                 \n",
       "⎢     2                                                                       \n",
       "⎢   dt                                                                        \n",
       "⎢─────────────                     0                                          \n",
       "⎢     a(t)                                                                    \n",
       "⎢                                                                             \n",
       "⎢                ⎛             2                     2⎞                       \n",
       "⎢                ⎜            d            ⎛d       ⎞ ⎟                       \n",
       "⎢               -⎜2⋅k + a(t)⋅───(a(t)) + 2⋅⎜──(a(t))⎟ ⎟                       \n",
       "⎢                ⎜             2           ⎝dt      ⎠ ⎟                       \n",
       "⎢                ⎝           dt                       ⎠                       \n",
       "⎢      0        ────────────────────────────────────────                      \n",
       "⎢                                  2                                          \n",
       "⎢                               k⋅r  - 1                                      \n",
       "⎢                                                                             \n",
       "⎢                                                            ⎛             2  \n",
       "⎢                                                          2 ⎜            d   \n",
       "⎢      0                           0                      r ⋅⎜2⋅k + a(t)⋅───(a\n",
       "⎢                                                            ⎜             2  \n",
       "⎢                                                            ⎝           dt   \n",
       "⎢                                                                             \n",
       "⎢                                                                             \n",
       "⎢                                                                             \n",
       "⎢      0                           0                                          \n",
       "⎢                                                                             \n",
       "⎣                                                                             \n",
       "\n",
       "                                                                        ⎤\n",
       "                                                                        ⎥\n",
       "                                                                        ⎥\n",
       "                                                                        ⎥\n",
       "                                                                        ⎥\n",
       "0                                              0                        ⎥\n",
       "                                                                        ⎥\n",
       "                                                                        ⎥\n",
       "                                                                        ⎥\n",
       "                                                                        ⎥\n",
       "                                                                        ⎥\n",
       "                                                                        ⎥\n",
       "                                                                        ⎥\n",
       "0                                              0                        ⎥\n",
       "                                                                        ⎥\n",
       "                                                                        ⎥\n",
       "                                                                        ⎥\n",
       "                   2⎞                                                   ⎥\n",
       "         ⎛d       ⎞ ⎟                                                   ⎥\n",
       "(t)) + 2⋅⎜──(a(t))⎟ ⎟                          0                        ⎥\n",
       "         ⎝dt      ⎠ ⎟                                                   ⎥\n",
       "                    ⎠                                                   ⎥\n",
       "                                                                        ⎥\n",
       "                          ⎛             2                     2⎞        ⎥\n",
       "                        2 ⎜            d            ⎛d       ⎞ ⎟    2   ⎥\n",
       "0                      r ⋅⎜2⋅k + a(t)⋅───(a(t)) + 2⋅⎜──(a(t))⎟ ⎟⋅sin (θ)⎥\n",
       "                          ⎜             2           ⎝dt      ⎠ ⎟        ⎥\n",
       "                          ⎝           dt                       ⎠        ⎦"
      ]
     },
     "execution_count": 11,
     "metadata": {},
     "output_type": "execute_result"
    }
   ],
   "source": [
    "#menampilkan komponen tensor Ricci\n",
    "Ricci(All, All)"
   ]
  },
  {
   "cell_type": "code",
   "execution_count": 12,
   "metadata": {},
   "outputs": [
    {
     "data": {
      "image/png": "[encoded data removed]",
      "text/latex": [
       "$\\displaystyle - \\frac{6 k + 6 a{\\left(t \\right)} \\frac{d^{2}}{d t^{2}} a{\\left(t \\right)} + 6 \\left(\\frac{d}{d t} a{\\left(t \\right)}\\right)^{2}}{a^{2}{\\left(t \\right)}}$"
      ],
      "text/plain": [
       " ⎛               2                     2⎞ \n",
       " ⎜              d            ⎛d       ⎞ ⎟ \n",
       "-⎜6⋅k + 6⋅a(t)⋅───(a(t)) + 6⋅⎜──(a(t))⎟ ⎟ \n",
       " ⎜               2           ⎝dt      ⎠ ⎟ \n",
       " ⎝             dt                       ⎠ \n",
       "──────────────────────────────────────────\n",
       "                   2                      \n",
       "                  a (t)                   "
      ]
     },
     "execution_count": 12,
     "metadata": {},
     "output_type": "execute_result"
    }
   ],
   "source": [
    "#skalar Ricci\n",
    "Ricci.scalar()"
   ]
  },
  {
   "cell_type": "markdown",
   "metadata": {},
   "source": [
    "## Tensor Einstein\n",
    "<p style=\"text-align: justify;\">Einstein membangun sebuah persamaan medan yang mendeskripsikan bagaimana sistem gravitasi bekerja.  Persamaan medan ini menerapkan konsep geometri Riemann, yang pada akhirnya menuntun kita pada konsep yang menyatakan gravitasi sebagai manifestasi dari kelengkungan ruang-waktu yang tertuang dalam tensor Einstein yaitu,</p>\n",
    "$$\n",
    "G_{\\mu v}=R_{\\mu v}-\\frac{1}{2} g_{\\mu v} R\n",
    "$$\n",
    "<p style=\"text-align: justify;\">Berikut programmnya:</p>"
   ]
  },
  {
   "cell_type": "code",
   "execution_count": 13,
   "metadata": {},
   "outputs": [],
   "source": [
    "#tensor Einstein\n",
    "G = Einstein('G', Ricci)"
   ]
  },
  {
   "cell_type": "code",
   "execution_count": 14,
   "metadata": {},
   "outputs": [
    {
     "data": {
      "text/latex": [
       "$\\displaystyle \\left[\\begin{matrix}\\frac{3 \\left(k + \\left(\\frac{d}{d t} a{\\left(t \\right)}\\right)^{2}\\right)}{a^{2}{\\left(t \\right)}} & 0 & 0 & 0\\\\0 & \\frac{k + 2 a{\\left(t \\right)} \\frac{d^{2}}{d t^{2}} a{\\left(t \\right)} + \\left(\\frac{d}{d t} a{\\left(t \\right)}\\right)^{2}}{k r^{2} - 1} & 0 & 0\\\\0 & 0 & - r^{2} \\left(k + 2 a{\\left(t \\right)} \\frac{d^{2}}{d t^{2}} a{\\left(t \\right)} + \\left(\\frac{d}{d t} a{\\left(t \\right)}\\right)^{2}\\right) & 0\\\\0 & 0 & 0 & - r^{2} \\left(k + 2 a{\\left(t \\right)} \\frac{d^{2}}{d t^{2}} a{\\left(t \\right)} + \\left(\\frac{d}{d t} a{\\left(t \\right)}\\right)^{2}\\right) \\sin^{2}{\\left(\\theta \\right)}\\end{matrix}\\right]$"
      ],
      "text/plain": [
       "⎡  ⎛              2⎞                                                          \n",
       "⎢  ⎜    ⎛d       ⎞ ⎟                                                          \n",
       "⎢3⋅⎜k + ⎜──(a(t))⎟ ⎟                                                          \n",
       "⎢  ⎝    ⎝dt      ⎠ ⎠                                                          \n",
       "⎢───────────────────                  0                                      0\n",
       "⎢        2                                                                    \n",
       "⎢       a (t)                                                                 \n",
       "⎢                                                                             \n",
       "⎢                                  2                   2                      \n",
       "⎢                                 d          ⎛d       ⎞                       \n",
       "⎢                     k + 2⋅a(t)⋅───(a(t)) + ⎜──(a(t))⎟                       \n",
       "⎢                                  2         ⎝dt      ⎠                       \n",
       "⎢                                dt                                           \n",
       "⎢         0           ──────────────────────────────────                     0\n",
       "⎢                                     2                                       \n",
       "⎢                                  k⋅r  - 1                                   \n",
       "⎢                                                                             \n",
       "⎢                                                             ⎛             2 \n",
       "⎢                                                           2 ⎜            d  \n",
       "⎢         0                           0                   -r ⋅⎜k + 2⋅a(t)⋅───(\n",
       "⎢                                                             ⎜             2 \n",
       "⎢                                                             ⎝           dt  \n",
       "⎢                                                                             \n",
       "⎢                                                                             \n",
       "⎢                                                                             \n",
       "⎢         0                           0                                      0\n",
       "⎢                                                                             \n",
       "⎣                                                                             \n",
       "\n",
       "                                                                      ⎤\n",
       "                                                                      ⎥\n",
       "                                                                      ⎥\n",
       "                                                                      ⎥\n",
       "                                             0                        ⎥\n",
       "                                                                      ⎥\n",
       "                                                                      ⎥\n",
       "                                                                      ⎥\n",
       "                                                                      ⎥\n",
       "                                                                      ⎥\n",
       "                                                                      ⎥\n",
       "                                                                      ⎥\n",
       "                                                                      ⎥\n",
       "                                             0                        ⎥\n",
       "                                                                      ⎥\n",
       "                                                                      ⎥\n",
       "                                                                      ⎥\n",
       "                  2⎞                                                  ⎥\n",
       "        ⎛d       ⎞ ⎟                                                  ⎥\n",
       "a(t)) + ⎜──(a(t))⎟ ⎟                         0                        ⎥\n",
       "        ⎝dt      ⎠ ⎟                                                  ⎥\n",
       "                   ⎠                                                  ⎥\n",
       "                                                                      ⎥\n",
       "                          ⎛             2                   2⎞        ⎥\n",
       "                        2 ⎜            d          ⎛d       ⎞ ⎟    2   ⎥\n",
       "                      -r ⋅⎜k + 2⋅a(t)⋅───(a(t)) + ⎜──(a(t))⎟ ⎟⋅sin (θ)⎥\n",
       "                          ⎜             2         ⎝dt      ⎠ ⎟        ⎥\n",
       "                          ⎝           dt                     ⎠        ⎦"
      ]
     },
     "execution_count": 14,
     "metadata": {},
     "output_type": "execute_result"
    }
   ],
   "source": [
    "#menampilkan tensor Einstein dalam bentuk matriks\n",
    "G(All, All)"
   ]
  },
  {
   "cell_type": "markdown",
   "metadata": {},
   "source": [
    "## Persamaan Medan Einstein\n",
    "### Tensor Einstein dengan Konstanta Kosmologi\n",
    "<p style=\"text-align: justify;\">Sebelum meninjau bentuk persamaan Einstein lebih dalam, kita tinjau persamaan sebelumnya apabila tetapan kosmologi $\\Lambda$ diikutsertakan, maka persamaan tensor Einstein menjadi</p>\n",
    "$$\n",
    "G_{\\mu v}=R_{\\mu v}-\\frac{1}{2} g_{\\mu v} R-\\Lambda g_{\\mu v}\n",
    "$$"
   ]
  },
  {
   "cell_type": "code",
   "execution_count": 15,
   "metadata": {},
   "outputs": [],
   "source": [
    "#menambahkan konstanta kosmologi pada tensor einstein sebelumnya\n",
    "G00 = G(1,1)-g(1,1)*lamda\n",
    "G11 = G(2,2)-g(2,2)*lamda\n",
    "G22 = G(3,3)-g(3,3)*lamda\n",
    "G33 = G(4,4)-g(4,4)*lamda\n",
    "G_matrix = diag(G00,G11,G22,G33)\n",
    "G_with_constant = MetricTensor('T_munu ', x, G_matrix)"
   ]
  },
  {
   "cell_type": "code",
   "execution_count": 16,
   "metadata": {},
   "outputs": [
    {
     "data": {
      "text/latex": [
       "$$G_{00}=- \\Lambda + \\frac{3 \\left(k + \\left(\\frac{d}{d t} a{\\left(t \\right)}\\right)^{2}\\right)}{a^{2}{\\left(t \\right)}}$$"
      ],
      "text/plain": [
       "<IPython.core.display.Math object>"
      ]
     },
     "metadata": {},
     "output_type": "display_data"
    },
    {
     "data": {
      "text/latex": [
       "$$G_{11}=\\frac{\\Lambda a^{2}{\\left(t \\right)}}{- k r^{2} + 1} + \\frac{k + 2 a{\\left(t \\right)} \\frac{d^{2}}{d t^{2}} a{\\left(t \\right)} + \\left(\\frac{d}{d t} a{\\left(t \\right)}\\right)^{2}}{k r^{2} - 1}$$"
      ],
      "text/plain": [
       "<IPython.core.display.Math object>"
      ]
     },
     "metadata": {},
     "output_type": "display_data"
    },
    {
     "data": {
      "text/latex": [
       "$$G_{22}=\\Lambda r^{2} a^{2}{\\left(t \\right)} - r^{2} \\left(k + 2 a{\\left(t \\right)} \\frac{d^{2}}{d t^{2}} a{\\left(t \\right)} + \\left(\\frac{d}{d t} a{\\left(t \\right)}\\right)^{2}\\right)$$"
      ],
      "text/plain": [
       "<IPython.core.display.Math object>"
      ]
     },
     "metadata": {},
     "output_type": "display_data"
    },
    {
     "data": {
      "text/latex": [
       "$$G_{33}=\\Lambda r^{2} a^{2}{\\left(t \\right)} \\sin^{2}{\\left(\\theta \\right)} - r^{2} \\left(k + 2 a{\\left(t \\right)} \\frac{d^{2}}{d t^{2}} a{\\left(t \\right)} + \\left(\\frac{d}{d t} a{\\left(t \\right)}\\right)^{2}\\right) \\sin^{2}{\\left(\\theta \\right)}$$"
      ],
      "text/plain": [
       "<IPython.core.display.Math object>"
      ]
     },
     "metadata": {},
     "output_type": "display_data"
    }
   ],
   "source": [
    "#menampilkan komponen yang tidak nol pada tensor Einstein dengan konstanta kosmologi\n",
    "for i, j in list(variations(range(1, 5), 2, True)):\n",
    "    if G_with_constant(i, j) != 0:\n",
    "        display(Math('G_{'+latex(i-1)+latex(j-1)+'}='+latex(G_with_constant(i,j))))"
   ]
  },
  {
   "cell_type": "markdown",
   "metadata": {},
   "source": [
    "### Hubungan Medan Einstein dengan Materi\n",
    "<p style=\"text-align: justify;\">Densitas dari massa menimbulkan potensial medan gravitasi, kemudian diperluas menjadi tensor energi-momentum $T_{u v}$ dengan densitas massa-energi termasuk komponen didalamnya. Persamaan medan Einstein menghubungkan tensor kelengkungan ruang-waktu $\\left(R_{\\mu v}\\right)$ dengan tensor energi momentum $\\left(T_{\\mu v}\\right)$ dalam bentuk:</p>\n",
    "$$\n",
    "R_{\\mu v}-\\frac{1}{2} g_{\\mu v} R=-\\kappa T_{\\mu v}\n",
    "$$\n",
    "Sehingga persamaan dengan tetapan kosmologi menjadi:\n",
    "$$\n",
    "R_{\\mu v}-\\frac{1}{2} g_{\\mu \\nu} R-\\Lambda g_{\\mu \\nu}=-\\kappa T_{\\mu \\nu}\n",
    "$$\n",
    "dengan $\\kappa = {8 \\pi G \\over c^4} $. Untuk memudahkan selanjutnya kita buat  $c=1$.\n",
    "<p style=\"text-align: justify;\">Persamaan diatas menggambarkan tautan antara gravitasi dengan materi, dimana konsep ini telah dikenal baik dalam menjelaskan alam semesta. Selanjutnya jika materi diasumsikan sebagai fluida sempurna yaitu pemodelan paling sederhana dari fluida: tanpa tegangan geser, viskositas, dan konduksi panas. Bentuk tensor energi-momentum dari fluida sempurna sebagai berikut:</p>\n",
    "$$\n",
    "T_{\\mu \\nu} = (\\rho-p)u_{\\mu}u_{\\nu}-g_{\\mu \\nu}p\n",
    "$$\n",
    "<p style=\"text-align: justify;\">dengan $u_{\\mu}$ adalah kecepatan-4. Dan akan diambil bentuk: $u_{\\mu} = \\left(1,  0,  0,   0 \\right)$ sehingga:</p>\n",
    "$$\n",
    "u_{\\mu}u_{\\nu} = \\left[\\begin{array}{cc}1 & 0 & 0 & 0\\\\0 & 0 & 0 & 0\\\\0 & 0 &  0 & 0\\\\0 & 0 & 0 & 0 \\end{array}\\right]\n",
    "$$"
   ]
  },
  {
   "cell_type": "code",
   "execution_count": 17,
   "metadata": {},
   "outputs": [],
   "source": [
    "#Tensor energi-momentum untuk fluida sempurna\n",
    "ro, pm = symbols('rho, p')\n",
    "T00 = g(1,1)*ro\n",
    "T11 = g(2,2)*(-pm)\n",
    "T22 = g(3,3)*(-pm)\n",
    "T33 = g(4,4)*(-pm)\n",
    "T_matrix = diag(T00,T11,T22,T33)\n",
    "T_perfect_fluid = MetricTensor('T_munu ', x, T_matrix)"
   ]
  },
  {
   "cell_type": "code",
   "execution_count": 18,
   "metadata": {},
   "outputs": [
    {
     "data": {
      "text/latex": [
       "$\\displaystyle \\left[\\begin{matrix}\\rho & 0 & 0 & 0\\\\0 & \\frac{p a^{2}{\\left(t \\right)}}{- k r^{2} + 1} & 0 & 0\\\\0 & 0 & p r^{2} a^{2}{\\left(t \\right)} & 0\\\\0 & 0 & 0 & p r^{2} a^{2}{\\left(t \\right)} \\sin^{2}{\\left(\\theta \\right)}\\end{matrix}\\right]$"
      ],
      "text/plain": [
       "⎡ρ      0           0               0         ⎤\n",
       "⎢                                             ⎥\n",
       "⎢       2                                     ⎥\n",
       "⎢    p⋅a (t)                                  ⎥\n",
       "⎢0  ──────────      0               0         ⎥\n",
       "⎢        2                                    ⎥\n",
       "⎢   - k⋅r  + 1                                ⎥\n",
       "⎢                                             ⎥\n",
       "⎢                  2  2                       ⎥\n",
       "⎢0      0       p⋅r ⋅a (t)          0         ⎥\n",
       "⎢                                             ⎥\n",
       "⎢                              2  2       2   ⎥\n",
       "⎣0      0           0       p⋅r ⋅a (t)⋅sin (θ)⎦"
      ]
     },
     "execution_count": 18,
     "metadata": {},
     "output_type": "execute_result"
    }
   ],
   "source": [
    "#menampilkan tensor energi-momentum fluida sempurna\n",
    "T_perfect_fluid(All,All)"
   ]
  },
  {
   "cell_type": "markdown",
   "metadata": {},
   "source": [
    "## Persamaan Friedmann\n",
    "<p style=\"text-align: justify;\">Dinamika kosmologi dalam geometri ruang-waktu sepenuhnya ditentukan oleh faktor skala $a(t)$. Untuk mengetahui bentuk $a(t)$ diperlukan solusi Persamaan Medan Einstein. Representasi dari solusi persamaan medan Einstein untuk metrik FRW disebut Persamaan Friedmann, dengan bentuk persamaan sebagai berikut:</p>\n",
    "\n",
    "$$\n",
    "\\frac{8 \\pi G}{3} \\rho = \\frac{1}{a^2} \\left(\\dot{a} +kc^2\\right)-\\frac{\\Lambda}{3}\n",
    "$$\n"
   ]
  },
  {
   "cell_type": "markdown",
   "metadata": {},
   "source": [
    "$$- \\frac{8 \\pi G}{c^2} p = \\frac{\\ddot{a}}{a} +\\frac{\\dot{a}^2}{a^2}+\\frac{kc^2}{a^2}-\\Lambda$$\n",
    "\n",
    "dengan $\\dot{a} =\\frac{d}{d t} a$, jika digunakan $c=1$, akan menghasilkan:\n",
    "\n",
    "$$\\frac{8 \\pi G}{3} \\rho = - \\frac{1}{a^2} \\left(\\dot{a} +k\\right)-\\frac{\\Lambda}{3}$$\n",
    "\n",
    "dan\n",
    "\n",
    "$$- \\frac{8 \\pi G}{3} p = \\frac{\\ddot{a}}{a} +\\frac{\\dot{a}^2}{a^2}+\\frac{k}{a^2}-\\Lambda$$\n"
   ]
  },
  {
   "cell_type": "code",
   "execution_count": 19,
   "metadata": {
    "scrolled": true
   },
   "outputs": [
    {
     "data": {
      "text/latex": [
       "$$- 8 \\pi G \\rho - \\Lambda + \\frac{3 \\left(k + \\left(\\frac{d}{d t} a{\\left(t \\right)}\\right)^{2}\\right)}{a^{2}{\\left(t \\right)}}= 0$$"
      ],
      "text/plain": [
       "<IPython.core.display.Math object>"
      ]
     },
     "metadata": {},
     "output_type": "display_data"
    },
    {
     "data": {
      "text/latex": [
       "$$- 8 \\pi G p + \\Lambda - \\frac{k}{a^{2}{\\left(t \\right)}} - \\frac{2 \\frac{d^{2}}{d t^{2}} a{\\left(t \\right)}}{a{\\left(t \\right)}} - \\frac{\\left(\\frac{d}{d t} a{\\left(t \\right)}\\right)^{2}}{a^{2}{\\left(t \\right)}}= 0$$"
      ],
      "text/plain": [
       "<IPython.core.display.Math object>"
      ]
     },
     "metadata": {},
     "output_type": "display_data"
    },
    {
     "data": {
      "text/latex": [
       "$$- 8 \\pi G p + \\Lambda - \\frac{k}{a^{2}{\\left(t \\right)}} - \\frac{2 \\frac{d^{2}}{d t^{2}} a{\\left(t \\right)}}{a{\\left(t \\right)}} - \\frac{\\left(\\frac{d}{d t} a{\\left(t \\right)}\\right)^{2}}{a^{2}{\\left(t \\right)}}= 0$$"
      ],
      "text/plain": [
       "<IPython.core.display.Math object>"
      ]
     },
     "metadata": {},
     "output_type": "display_data"
    },
    {
     "data": {
      "text/latex": [
       "$$- 8 \\pi G p + \\Lambda - \\frac{k}{a^{2}{\\left(t \\right)}} - \\frac{2 \\frac{d^{2}}{d t^{2}} a{\\left(t \\right)}}{a{\\left(t \\right)}} - \\frac{\\left(\\frac{d}{d t} a{\\left(t \\right)}\\right)^{2}}{a^{2}{\\left(t \\right)}}= 0$$"
      ],
      "text/plain": [
       "<IPython.core.display.Math object>"
      ]
     },
     "metadata": {},
     "output_type": "display_data"
    }
   ],
   "source": [
    "#set persamaan untuk membangun persamaan friedmann\n",
    "G0 = symbols('G')\n",
    "T=MetricTensor('T',x, G_with_constant(All, All)-8*pi*G0*T_perfect_fluid(All,All))\n",
    "#mengambil set persamaannya\n",
    "for i, j in list(variations(range(1, 5), 2, True)):\n",
    "    if T(i, j) !=0:\n",
    "        C = T(i,j)\n",
    "        if i==2 and j==2:\n",
    "            A = C*((-k*r**2+1)/at**2)\n",
    "            display(Math(latex(A.simplify())+\"= 0\"))\n",
    "        elif i==3 and j==3:\n",
    "            A = C*(1/(r**2*at**2))\n",
    "            display(Math(latex(A.simplify())+\"= 0\"))\n",
    "        elif i==4 and j==4:\n",
    "            A = C*(1/(sin(theta)**2*r**2*at**2))\n",
    "            display(Math(latex(A.simplify())+\"= 0\"))\n",
    "        else:\n",
    "            display(Math(latex(C)+\"= 0\"))"
   ]
  },
  {
   "cell_type": "markdown",
   "metadata": {},
   "source": [
    "<p style=\"text-align: justify;\">persamaan pertama diatas bila di sederhanakan akan menjadi:</p>\n",
    "$$- 8 \\pi G \\rho - \\Lambda + \\frac{3 \\left(k + \\left(\\frac{d}{d t} a{\\left(t \\right)}\\right)^{2}\\right)}{a^{2}{\\left(t \\right)}}=0$$"
   ]
  },
  {
   "cell_type": "markdown",
   "metadata": {},
   "source": [
    "\n",
    "$$ \\frac{8 \\pi G}{3} \\rho= \\frac{1}{a^{2}{\\left(t \\right)}}\\left(\\left(\\frac{d}{d t} a{\\left(t \\right)}\\right)^{2}+k \\right)-\\frac{\\Lambda}{3}  $$\n",
    "persamaan kedua akan menghasilkan:\n",
    "$$8 \\pi G p + \\Lambda - \\frac{k}{a^{2}{\\left(t \\right)}} - \\frac{2 \\frac{d^{2}}{d t^{2}} a{\\left(t \\right)}}{a{\\left(t \\right)}} - \\frac{\\left(\\frac{d}{d t} a{\\left(t \\right)}\\right)^{2}}{a^{2}{\\left(t \\right)}}=0$$\n",
    "$$-8 \\pi G p = \\frac{k}{a^{2}{\\left(t \\right)}} + \\frac{2 \\frac{d^{2}}{d t^{2}} a{\\left(t \\right)}}{a{\\left(t \\right)}} + \\frac{\\left(\\frac{d}{d t} a{\\left(t \\right)}\\right)^{2}}{a^{2}{\\left(t \\right)}} - \\Lambda$$\n",
    "<p style=\"text-align: justify;\">Persamaan ketiga dan keempat hanya akan mengulang persamaan kedua.Perhatikan bahwa persamaan diatas tak lain adalah persamaan Friedmann.</p>\n",
    "<p style=\"text-align: justify;\">Persamaan-persamaan ini memberikan deskripsi kecepatan dan percepatan alam semesta dalam mengembang.</p>"
   ]
  },
  {
   "cell_type": "markdown",
   "metadata": {},
   "source": [
    "## Simpulan\n",
    "<p style=\"text-align: justify;\">Persamaan Friedmaan telah berhasil dikonstruksi dengan menggunakan persamaan Medan Einstein, dan mengasumsikan materi berupa fluida sempurna.</p>\n",
    "\n",
    "## Pesan\n",
    "<p style=\"text-align: justify;\">Tambahkan solusi dari persamaan-persamaan Friedmann tersebut. Silahkan kembangkan bagi yang berminat, misal menambahkan tensor energi-momentum yang lain dapat berupa sektor gelap (Dark) atau medan skalar guna mendapatkan model alam semesta yang semakin baik.</p>"
   ]
  },
  {
   "cell_type": "markdown",
   "metadata": {},
   "source": [
    "## Referensi\n",
    "1. Taufiq H.  2010. Teori Relativitas: Sebuah Pengantar. Bandung (ID): ITB Pr.\n",
    "2. Sungkar EG. 2018. Pengantar Teori Relativitas Umum dan Kosmologi[Internet]\n",
    "3. Hobson MP, Efstathio GP, dan Lasenby AN. 2006. General Relativity An Introduction for Physicist. Cambridge(UK): Cambridge University Press."
   ]
  }
 ],
 "metadata": {
  "kernelspec": {
   "display_name": "Python 3",
   "language": "python",
   "name": "python3"
  },
  "language_info": {
   "codemirror_mode": {
    "name": "ipython",
    "version": 3
   },
   "file_extension": ".py",
   "mimetype": "text/x-python",
   "name": "python",
   "nbconvert_exporter": "python",
   "pygments_lexer": "ipython3",
   "version": "3.6.9"
  }
 },
 "nbformat": 4,
 "nbformat_minor": 2
}
